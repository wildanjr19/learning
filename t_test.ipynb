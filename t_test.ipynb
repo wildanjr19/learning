{
  "nbformat": 4,
  "nbformat_minor": 0,
  "metadata": {
    "colab": {
      "provenance": []
    },
    "kernelspec": {
      "name": "python3",
      "display_name": "Python 3"
    },
    "language_info": {
      "name": "python"
    }
  },
  "cells": [
    {
      "cell_type": "code",
      "execution_count": 1,
      "metadata": {
        "id": "1NgJSZ4tDXal"
      },
      "outputs": [],
      "source": [
        "import numpy as np"
      ]
    },
    {
      "cell_type": "markdown",
      "source": [
        "1. Buat contoh data (satu sampel)"
      ],
      "metadata": {
        "id": "GgNr2shLDo4b"
      }
    },
    {
      "cell_type": "code",
      "source": [
        "nilai = [86, 89, 67, 88, 92, 87, 86, 76, 99, 23, 34, 98]"
      ],
      "metadata": {
        "id": "kZrQbrbfDuwE"
      },
      "execution_count": 2,
      "outputs": []
    },
    {
      "cell_type": "markdown",
      "source": [
        "2. Mencari parameter"
      ],
      "metadata": {
        "id": "Ctl3JXxKEGOe"
      }
    },
    {
      "cell_type": "code",
      "source": [
        "nilai_bar = np.mean(nilai)  # mencari rata-rata\n",
        "standev_nilai = np.std(nilai, ddof = 1)  # mencari standar deviasi\n",
        "n = len(nilai)  # mencari jumlah data\n",
        "mu = 80  # kita misalkan mu adalah 80"
      ],
      "metadata": {
        "id": "R-yUx6KIEKEY"
      },
      "execution_count": 3,
      "outputs": []
    },
    {
      "cell_type": "markdown",
      "source": [
        "3. Melakukan Uji T"
      ],
      "metadata": {
        "id": "55Q-BfJMFdXN"
      }
    },
    {
      "cell_type": "code",
      "source": [
        "t_stat = (nilai_bar - mu) / (standev_nilai / np.sqrt(n))\n",
        "print(t_stat)\n",
        "# mengacu pada rumus asli"
      ],
      "metadata": {
        "colab": {
          "base_uri": "https://localhost:8080/"
        },
        "id": "PM5pMyatFgeu",
        "outputId": "e50eb61b-f1b3-4925-c2fa-7d2dd53decfc"
      },
      "execution_count": 4,
      "outputs": [
        {
          "output_type": "stream",
          "name": "stdout",
          "text": [
            "-0.4142743736976033\n"
          ]
        }
      ]
    },
    {
      "cell_type": "markdown",
      "source": [
        "4. Mencari batas galat/eror menggunakan alpha = 0,05"
      ],
      "metadata": {
        "id": "nFnzt0fgGAFE"
      }
    },
    {
      "cell_type": "code",
      "source": [
        "from scipy.stats import t  # import fungsi t\n"
      ],
      "metadata": {
        "id": "JeJYwjAfGKIa"
      },
      "execution_count": 5,
      "outputs": []
    },
    {
      "cell_type": "code",
      "source": [
        "t_eror = t.ppf(0.05, n - 1)\n",
        "t_eror"
      ],
      "metadata": {
        "colab": {
          "base_uri": "https://localhost:8080/"
        },
        "id": "GUoFIwdWGUPP",
        "outputId": "bd5d4437-d080-40e1-bb7d-5d994b0172a3"
      },
      "execution_count": 9,
      "outputs": [
        {
          "output_type": "execute_result",
          "data": {
            "text/plain": [
              "-1.7958848187036696"
            ]
          },
          "metadata": {},
          "execution_count": 9
        }
      ]
    }
  ]
}