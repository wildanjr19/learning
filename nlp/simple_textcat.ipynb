{
 "cells": [
  {
   "cell_type": "code",
   "execution_count": 2,
   "metadata": {},
   "outputs": [],
   "source": [
    "# import libray\n",
    "import random\n",
    "import spacy\n",
    "\n",
    "from spacy.training import Example\n",
    "\n",
    "from spacy.pipeline.textcat import DEFAULT_SINGLE_TEXTCAT_MODEL"
   ]
  },
  {
   "cell_type": "code",
   "execution_count": 3,
   "metadata": {},
   "outputs": [],
   "source": [
    "# import nlp model\n",
    "nlp = spacy.load('en_core_web_md')"
   ]
  },
  {
   "cell_type": "code",
   "execution_count": 28,
   "metadata": {},
   "outputs": [],
   "source": [
    "# dataset for training model\n",
    "food_comment = [(\"The pasta was perfectly cooked and full of flavor.\",\n",
    "                 {\"cats\" : {\"Positive Sentiment\" : 1.0, \"Negative Sentiment\" : 0.0}}),\n",
    "                 (\"I loved the crispy texture of the fried chicken.\",\n",
    "                 {\"cats\" : {\"Positive Sentiment\" : 1.0, \"Negative Sentiment\" : 0.0}}),\n",
    "                 (\"The dessert was rich and satisfying, I will definitely come back.\",\n",
    "                 {\"cats\" : {\"Positive Sentiment\" : 1.0, \"Negative Sentiment\" : 0.0}}),\n",
    "                 (\"The sushi was fresh and beautifully presented.\",\n",
    "                 {\"cats\" : {\"Positive Sentiment\" : 1.0, \"Negative Sentiment\" : 0.0}}),\n",
    "                 (\"Excellent service and the pizza tasted amazing!\",\n",
    "                 {\"cats\" : {\"Positive Sentiment\" : 1.0, \"Negative Sentiment\" : 0.0}}),\n",
    "                 (\"The burger was cold and lacked seasoning.\",\n",
    "                 {\"cats\" : {\"Positive Sentiment\" : 0.0, \"Negative Sentiment\" : 1.0}}),\n",
    "                 (\"I found the soup too salty and unpleasant to eat.\",\n",
    "                 {\"cats\" : {\"Positive Sentiment\" : 0.0, \"Negative Sentiment\" : 1.0}}),\n",
    "                 (\"The steak was overcooked and dry.\",\n",
    "                 {\"cats\" : {\"Positive Sentiment\" : 0.0, \"Negative Sentiment\" : 1.0}}),\n",
    "                 (\"The portion size was too small for the price.\",\n",
    "                 {\"cats\" : {\"Positive Sentiment\" : 0.0, \"Negative Sentiment\" : 1.0}}),\n",
    "                 (\"The bread was stale and the salad tasted bland.\",\n",
    "                 {\"cats\" : {\"Positive Sentiment\" : 0.0, \"Negative Sentiment\" : 1.0}})\n",
    "                ]"
   ]
  },
  {
   "cell_type": "code",
   "execution_count": 5,
   "metadata": {},
   "outputs": [],
   "source": [
    "# set config for model\n",
    "config = {\n",
    "    'threshold' : 0.5,\n",
    "    'model' : DEFAULT_SINGLE_TEXTCAT_MODEL\n",
    "}"
   ]
  },
  {
   "cell_type": "code",
   "execution_count": 6,
   "metadata": {},
   "outputs": [],
   "source": [
    "# create the model object\n",
    "text_cat = nlp.add_pipe('textcat', config=config)"
   ]
  },
  {
   "cell_type": "code",
   "execution_count": 7,
   "metadata": {},
   "outputs": [
    {
     "data": {
      "text/plain": [
       "['tok2vec',\n",
       " 'tagger',\n",
       " 'parser',\n",
       " 'attribute_ruler',\n",
       " 'lemmatizer',\n",
       " 'ner',\n",
       " 'textcat']"
      ]
     },
     "execution_count": 7,
     "metadata": {},
     "output_type": "execute_result"
    }
   ],
   "source": [
    "nlp.pipe_names"
   ]
  },
  {
   "cell_type": "code",
   "execution_count": 8,
   "metadata": {},
   "outputs": [
    {
     "data": {
      "text/plain": [
       "<spacy.pipeline.textcat.TextCategorizer at 0x1e0b25e9970>"
      ]
     },
     "execution_count": 8,
     "metadata": {},
     "output_type": "execute_result"
    }
   ],
   "source": [
    "text_cat"
   ]
  },
  {
   "cell_type": "code",
   "execution_count": 29,
   "metadata": {},
   "outputs": [
    {
     "data": {
      "text/plain": [
       "0"
      ]
     },
     "execution_count": 29,
     "metadata": {},
     "output_type": "execute_result"
    }
   ],
   "source": [
    "# add two lablers to model\n",
    "text_cat.add_label(\"Positive Sentiment\")\n",
    "text_cat.add_label(\"Negative Sentiment\")"
   ]
  },
  {
   "cell_type": "code",
   "execution_count": 30,
   "metadata": {},
   "outputs": [],
   "source": [
    "# create example\n",
    "food_comment_exp = [Example.from_dict(nlp.make_doc(comment), category) for comment, category in food_comment]\n",
    "text_cat.initialize(lambda: food_comment_exp, nlp=nlp)"
   ]
  },
  {
   "cell_type": "code",
   "execution_count": 31,
   "metadata": {},
   "outputs": [
    {
     "data": {
      "text/plain": [
       "[{'doc_annotation': {'cats': {'Positive Sentiment': 1.0, 'Negative Sentiment': 0.0}, 'entities': ['O', 'O', 'O', 'O', 'O', 'O', 'O', 'O', 'O', 'O'], 'spans': {}, 'links': {}}, 'token_annotation': {'ORTH': ['The', 'pasta', 'was', 'perfectly', 'cooked', 'and', 'full', 'of', 'flavor', '.'], 'SPACY': [True, True, True, True, True, True, True, True, False, False], 'TAG': ['', '', '', '', '', '', '', '', '', ''], 'LEMMA': ['', '', '', '', '', '', '', '', '', ''], 'POS': ['', '', '', '', '', '', '', '', '', ''], 'MORPH': ['', '', '', '', '', '', '', '', '', ''], 'HEAD': [0, 1, 2, 3, 4, 5, 6, 7, 8, 9], 'DEP': ['', '', '', '', '', '', '', '', '', ''], 'SENT_START': [1, 0, 0, 0, 0, 0, 0, 0, 0, 0]}},\n",
       " {'doc_annotation': {'cats': {'Positive Sentiment': 1.0, 'Negative Sentiment': 0.0}, 'entities': ['O', 'O', 'O', 'O', 'O', 'O', 'O', 'O', 'O', 'O'], 'spans': {}, 'links': {}}, 'token_annotation': {'ORTH': ['I', 'loved', 'the', 'crispy', 'texture', 'of', 'the', 'fried', 'chicken', '.'], 'SPACY': [True, True, True, True, True, True, True, True, False, False], 'TAG': ['', '', '', '', '', '', '', '', '', ''], 'LEMMA': ['', '', '', '', '', '', '', '', '', ''], 'POS': ['', '', '', '', '', '', '', '', '', ''], 'MORPH': ['', '', '', '', '', '', '', '', '', ''], 'HEAD': [0, 1, 2, 3, 4, 5, 6, 7, 8, 9], 'DEP': ['', '', '', '', '', '', '', '', '', ''], 'SENT_START': [1, 0, 0, 0, 0, 0, 0, 0, 0, 0]}},\n",
       " {'doc_annotation': {'cats': {'Positive Sentiment': 1.0, 'Negative Sentiment': 0.0}, 'entities': ['O', 'O', 'O', 'O', 'O', 'O', 'O', 'O', 'O', 'O', 'O', 'O', 'O'], 'spans': {}, 'links': {}}, 'token_annotation': {'ORTH': ['The', 'dessert', 'was', 'rich', 'and', 'satisfying', ',', 'I', 'will', 'definitely', 'come', 'back', '.'], 'SPACY': [True, True, True, True, True, False, True, True, True, True, True, False, False], 'TAG': ['', '', '', '', '', '', '', '', '', '', '', '', ''], 'LEMMA': ['', '', '', '', '', '', '', '', '', '', '', '', ''], 'POS': ['', '', '', '', '', '', '', '', '', '', '', '', ''], 'MORPH': ['', '', '', '', '', '', '', '', '', '', '', '', ''], 'HEAD': [0, 1, 2, 3, 4, 5, 6, 7, 8, 9, 10, 11, 12], 'DEP': ['', '', '', '', '', '', '', '', '', '', '', '', ''], 'SENT_START': [1, 0, 0, 0, 0, 0, 0, 0, 0, 0, 0, 0, 0]}},\n",
       " {'doc_annotation': {'cats': {'Positive Sentiment': 1.0, 'Negative Sentiment': 0.0}, 'entities': ['O', 'O', 'O', 'O', 'O', 'O', 'O', 'O'], 'spans': {}, 'links': {}}, 'token_annotation': {'ORTH': ['The', 'sushi', 'was', 'fresh', 'and', 'beautifully', 'presented', '.'], 'SPACY': [True, True, True, True, True, True, False, False], 'TAG': ['', '', '', '', '', '', '', ''], 'LEMMA': ['', '', '', '', '', '', '', ''], 'POS': ['', '', '', '', '', '', '', ''], 'MORPH': ['', '', '', '', '', '', '', ''], 'HEAD': [0, 1, 2, 3, 4, 5, 6, 7], 'DEP': ['', '', '', '', '', '', '', ''], 'SENT_START': [1, 0, 0, 0, 0, 0, 0, 0]}},\n",
       " {'doc_annotation': {'cats': {'Positive Sentiment': 1.0, 'Negative Sentiment': 0.0}, 'entities': ['O', 'O', 'O', 'O', 'O', 'O', 'O', 'O'], 'spans': {}, 'links': {}}, 'token_annotation': {'ORTH': ['Excellent', 'service', 'and', 'the', 'pizza', 'tasted', 'amazing', '!'], 'SPACY': [True, True, True, True, True, True, False, False], 'TAG': ['', '', '', '', '', '', '', ''], 'LEMMA': ['', '', '', '', '', '', '', ''], 'POS': ['', '', '', '', '', '', '', ''], 'MORPH': ['', '', '', '', '', '', '', ''], 'HEAD': [0, 1, 2, 3, 4, 5, 6, 7], 'DEP': ['', '', '', '', '', '', '', ''], 'SENT_START': [1, 0, 0, 0, 0, 0, 0, 0]}},\n",
       " {'doc_annotation': {'cats': {'Positive Sentiment': 0.0, 'Negative Sentiment': 1.0}, 'entities': ['O', 'O', 'O', 'O', 'O', 'O', 'O', 'O'], 'spans': {}, 'links': {}}, 'token_annotation': {'ORTH': ['The', 'burger', 'was', 'cold', 'and', 'lacked', 'seasoning', '.'], 'SPACY': [True, True, True, True, True, True, False, False], 'TAG': ['', '', '', '', '', '', '', ''], 'LEMMA': ['', '', '', '', '', '', '', ''], 'POS': ['', '', '', '', '', '', '', ''], 'MORPH': ['', '', '', '', '', '', '', ''], 'HEAD': [0, 1, 2, 3, 4, 5, 6, 7], 'DEP': ['', '', '', '', '', '', '', ''], 'SENT_START': [1, 0, 0, 0, 0, 0, 0, 0]}},\n",
       " {'doc_annotation': {'cats': {'Positive Sentiment': 0.0, 'Negative Sentiment': 1.0}, 'entities': ['O', 'O', 'O', 'O', 'O', 'O', 'O', 'O', 'O', 'O', 'O'], 'spans': {}, 'links': {}}, 'token_annotation': {'ORTH': ['I', 'found', 'the', 'soup', 'too', 'salty', 'and', 'unpleasant', 'to', 'eat', '.'], 'SPACY': [True, True, True, True, True, True, True, True, True, False, False], 'TAG': ['', '', '', '', '', '', '', '', '', '', ''], 'LEMMA': ['', '', '', '', '', '', '', '', '', '', ''], 'POS': ['', '', '', '', '', '', '', '', '', '', ''], 'MORPH': ['', '', '', '', '', '', '', '', '', '', ''], 'HEAD': [0, 1, 2, 3, 4, 5, 6, 7, 8, 9, 10], 'DEP': ['', '', '', '', '', '', '', '', '', '', ''], 'SENT_START': [1, 0, 0, 0, 0, 0, 0, 0, 0, 0, 0]}},\n",
       " {'doc_annotation': {'cats': {'Positive Sentiment': 0.0, 'Negative Sentiment': 1.0}, 'entities': ['O', 'O', 'O', 'O', 'O', 'O', 'O'], 'spans': {}, 'links': {}}, 'token_annotation': {'ORTH': ['The', 'steak', 'was', 'overcooked', 'and', 'dry', '.'], 'SPACY': [True, True, True, True, True, False, False], 'TAG': ['', '', '', '', '', '', ''], 'LEMMA': ['', '', '', '', '', '', ''], 'POS': ['', '', '', '', '', '', ''], 'MORPH': ['', '', '', '', '', '', ''], 'HEAD': [0, 1, 2, 3, 4, 5, 6], 'DEP': ['', '', '', '', '', '', ''], 'SENT_START': [1, 0, 0, 0, 0, 0, 0]}},\n",
       " {'doc_annotation': {'cats': {'Positive Sentiment': 0.0, 'Negative Sentiment': 1.0}, 'entities': ['O', 'O', 'O', 'O', 'O', 'O', 'O', 'O', 'O', 'O'], 'spans': {}, 'links': {}}, 'token_annotation': {'ORTH': ['The', 'portion', 'size', 'was', 'too', 'small', 'for', 'the', 'price', '.'], 'SPACY': [True, True, True, True, True, True, True, True, False, False], 'TAG': ['', '', '', '', '', '', '', '', '', ''], 'LEMMA': ['', '', '', '', '', '', '', '', '', ''], 'POS': ['', '', '', '', '', '', '', '', '', ''], 'MORPH': ['', '', '', '', '', '', '', '', '', ''], 'HEAD': [0, 1, 2, 3, 4, 5, 6, 7, 8, 9], 'DEP': ['', '', '', '', '', '', '', '', '', ''], 'SENT_START': [1, 0, 0, 0, 0, 0, 0, 0, 0, 0]}},\n",
       " {'doc_annotation': {'cats': {'Positive Sentiment': 0.0, 'Negative Sentiment': 1.0}, 'entities': ['O', 'O', 'O', 'O', 'O', 'O', 'O', 'O', 'O', 'O'], 'spans': {}, 'links': {}}, 'token_annotation': {'ORTH': ['The', 'bread', 'was', 'stale', 'and', 'the', 'salad', 'tasted', 'bland', '.'], 'SPACY': [True, True, True, True, True, True, True, True, False, False], 'TAG': ['', '', '', '', '', '', '', '', '', ''], 'LEMMA': ['', '', '', '', '', '', '', '', '', ''], 'POS': ['', '', '', '', '', '', '', '', '', ''], 'MORPH': ['', '', '', '', '', '', '', '', '', ''], 'HEAD': [0, 1, 2, 3, 4, 5, 6, 7, 8, 9], 'DEP': ['', '', '', '', '', '', '', '', '', ''], 'SENT_START': [1, 0, 0, 0, 0, 0, 0, 0, 0, 0]}}]"
      ]
     },
     "execution_count": 31,
     "metadata": {},
     "output_type": "execute_result"
    }
   ],
   "source": [
    "# review\n",
    "food_comment_exp"
   ]
  },
  {
   "cell_type": "code",
   "execution_count": 32,
   "metadata": {},
   "outputs": [
    {
     "name": "stdout",
     "output_type": "stream",
     "text": [
      "Epoch  0 Losses  {'textcat': 2.5618902295827866}\n",
      "Epoch  1 Losses  {'textcat': 4.274910882115364}\n",
      "Epoch  2 Losses  {'textcat': 4.553515742067248}\n",
      "Epoch  3 Losses  {'textcat': 4.555172721666111}\n",
      "Epoch  4 Losses  {'textcat': 4.5551935526741225}\n",
      "Epoch  5 Losses  {'textcat': 4.555198031053816}\n",
      "Epoch  6 Losses  {'textcat': 4.555201213264223}\n",
      "Epoch  7 Losses  {'textcat': 4.555202681378108}\n",
      "Epoch  8 Losses  {'textcat': 4.555203833998733}\n",
      "Epoch  9 Losses  {'textcat': 4.555204758281596}\n",
      "Epoch  10 Losses  {'textcat': 4.555205510335684}\n",
      "Epoch  11 Losses  {'textcat': 4.555206153927758}\n",
      "Epoch  12 Losses  {'textcat': 4.55520669205619}\n",
      "Epoch  13 Losses  {'textcat': 4.555207188054737}\n",
      "Epoch  14 Losses  {'textcat': 4.555207623840325}\n",
      "Epoch  15 Losses  {'textcat': 4.555208007058473}\n",
      "Epoch  16 Losses  {'textcat': 4.555208353578716}\n",
      "Epoch  17 Losses  {'textcat': 4.55520866919891}\n",
      "Epoch  18 Losses  {'textcat': 4.5552089558136295}\n",
      "Epoch  19 Losses  {'textcat': 4.555209213668125}\n"
     ]
    }
   ],
   "source": [
    "# training the model\n",
    "\n",
    "# set epoch and losses\n",
    "epochs = 20\n",
    "losses = {}\n",
    "\n",
    "# main loop for training\n",
    "with nlp.select_pipes(enable='textcat'):\n",
    "    optimizer = nlp.resume_training()\n",
    "    for i in range(epochs):\n",
    "        random.shuffle(food_comment)\n",
    "        for comment, category in food_comment:\n",
    "            mdoc = nlp.make_doc(comment)\n",
    "            exp = Example.from_dict(mdoc, category)\n",
    "            nlp.update([exp], sgd=optimizer, losses=losses)\n",
    "        print('Epoch ',i, 'Losses ',losses)"
   ]
  },
  {
   "cell_type": "code",
   "execution_count": 33,
   "metadata": {},
   "outputs": [
    {
     "data": {
      "text/plain": [
       "{'Positive Sentiment': 0.5669248700141907,\n",
       " 'Negative Sentiment': 0.43307510018348694}"
      ]
     },
     "execution_count": 33,
     "metadata": {},
     "output_type": "execute_result"
    }
   ],
   "source": [
    "# test 1\n",
    "test = nlp('The pizza was delicious')\n",
    "test.cats"
   ]
  },
  {
   "cell_type": "code",
   "execution_count": 34,
   "metadata": {},
   "outputs": [
    {
     "data": {
      "text/plain": [
       "{'Positive Sentiment': 0.005940255708992481,\n",
       " 'Negative Sentiment': 0.9940598011016846}"
      ]
     },
     "execution_count": 34,
     "metadata": {},
     "output_type": "execute_result"
    }
   ],
   "source": [
    "# test 2\n",
    "test2 = nlp('The food not delicious and the service was terrible.')\n",
    "test2.cats"
   ]
  },
  {
   "cell_type": "code",
   "execution_count": 35,
   "metadata": {},
   "outputs": [
    {
     "data": {
      "text/plain": [
       "{'Positive Sentiment': 0.41497448086738586,\n",
       " 'Negative Sentiment': 0.5850255489349365}"
      ]
     },
     "execution_count": 35,
     "metadata": {},
     "output_type": "execute_result"
    }
   ],
   "source": [
    "# test3\n",
    "test3 = nlp('The pancakes were fluffy and delicious.')\n",
    "test3.cats"
   ]
  },
  {
   "cell_type": "code",
   "execution_count": 36,
   "metadata": {},
   "outputs": [
    {
     "data": {
      "text/plain": [
       "{'Positive Sentiment': 0.01045308355242014,\n",
       " 'Negative Sentiment': 0.9895469546318054}"
      ]
     },
     "execution_count": 36,
     "metadata": {},
     "output_type": "execute_result"
    }
   ],
   "source": [
    "# test4\n",
    "test4 = nlp('The food was cold and the service was slow.')\n",
    "test4.cats"
   ]
  },
  {
   "cell_type": "code",
   "execution_count": 37,
   "metadata": {},
   "outputs": [
    {
     "data": {
      "text/plain": [
       "{'Positive Sentiment': 0.6722080707550049,\n",
       " 'Negative Sentiment': 0.3277919590473175}"
      ]
     },
     "execution_count": 37,
     "metadata": {},
     "output_type": "execute_result"
    }
   ],
   "source": [
    "# test5\n",
    "test5 = nlp('I enjoyed the fresh ingredients in the salad.')\n",
    "test5.cats"
   ]
  }
 ],
 "metadata": {
  "kernelspec": {
   "display_name": "Python 3",
   "language": "python",
   "name": "python3"
  },
  "language_info": {
   "codemirror_mode": {
    "name": "ipython",
    "version": 3
   },
   "file_extension": ".py",
   "mimetype": "text/x-python",
   "name": "python",
   "nbconvert_exporter": "python",
   "pygments_lexer": "ipython3",
   "version": "3.11.9"
  }
 },
 "nbformat": 4,
 "nbformat_minor": 2
}
