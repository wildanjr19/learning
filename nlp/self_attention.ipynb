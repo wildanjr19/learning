{
 "cells": [
  {
   "cell_type": "code",
   "execution_count": 1,
   "metadata": {},
   "outputs": [],
   "source": [
    "import torch \n",
    "import torch.nn as nn\n",
    "import torch.nn.functional as F"
   ]
  },
  {
   "cell_type": "code",
   "execution_count": null,
   "metadata": {},
   "outputs": [],
   "source": [
    "class SelfAttention(nn.Module):\n",
    "    def __init__(self, d_model = 2, row_dim = 0, col_dim=1):\n",
    "        # d_model = dimensi dari token encoding\n",
    "        # row_dim = dimensi baris dari matriks\n",
    "        # col_dim = dimensi kolom dari matriks\n",
    "\n",
    "        super().__init__()\n",
    "        ## inisialisasi Weight(W) dan Bias(b) untuk Query, Key, Value\n",
    "        # untuk setiap token/kata\n",
    "        ## in_feature = baris ; out_features = kolom\n",
    "        self.W_q = nn.Linear(in_features=d_model, out_features=d_model, bias=False) # W untuk Query\n",
    "        self.W_k = nn.Linear(in_features=d_model, out_features=d_model, bias=False) # W untuk Key\n",
    "        self.W_v = nn.Linear(in_features=d_model, out_features=d_model, bias=False) # W untuk Value\n",
    "        # nn.Linear tidak hanya membuat matriks, tapi juga melakukan operasi math\n",
    "\n",
    "        self.row_dim = row_dim\n",
    "        self.col_dim = col_dim\n",
    "\n",
    "    # operasi forward untuk menghitung self-attention score untuk setiap token\n",
    "    def forward(self, token_embeddings):\n",
    "        ## membuat Query, Key, dan Value dari nilai encoding\n",
    "        # yang berasal dari setiap token (token_encodings)\n",
    "        ## Encoded values matmul with their Weight and store in Q/K/V\n",
    "        q = self.W_q(token_embeddings)\n",
    "        k = self.W_k(token_embeddings)\n",
    "        v = self.W_v(token_embeddings)\n",
    "\n",
    "        ## calcute attention-score ## \n",
    "\n",
    "        # similiraity score : (q * k^T) -> numerator\n",
    "        sims = torch.matmul(q, k.transpose(dim0=self.row_dim, dim1=self.col_dim))\n",
    "\n",
    "        # normalisasi similarity score //  divide by (sqrt(d_k)) -> denominator\n",
    "        # d_k = dimensi dari key\n",
    "        scaled_sims = sims / torch.tensor(k.size(self.col_dim)**0.5)\n",
    "\n",
    "        # softmax\n",
    "        attention_sm = F.softmax(scaled_sims, dim=self.col_dim)\n",
    "\n",
    "        # kalikan dengan Value (v)\n",
    "        attention_score = torch.matmul(attention_sm, v)\n",
    "\n",
    "        ## end ##\n",
    "\n",
    "        return attention_score"
   ]
  }
 ],
 "metadata": {
  "kernelspec": {
   "display_name": "Python 3",
   "language": "python",
   "name": "python3"
  },
  "language_info": {
   "codemirror_mode": {
    "name": "ipython",
    "version": 3
   },
   "file_extension": ".py",
   "mimetype": "text/x-python",
   "name": "python",
   "nbconvert_exporter": "python",
   "pygments_lexer": "ipython3",
   "version": "3.11.0"
  }
 },
 "nbformat": 4,
 "nbformat_minor": 2
}
