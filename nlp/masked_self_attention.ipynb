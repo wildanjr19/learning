{
 "cells": [
  {
   "cell_type": "code",
   "execution_count": 1,
   "metadata": {},
   "outputs": [],
   "source": [
    "import torch \n",
    "import torch.nn as nn\n",
    "import torch.nn.functional as F\n",
    "\n",
    "device = torch.device(\"cuda\" if torch.cuda.is_available() else \"cpu\")"
   ]
  },
  {
   "cell_type": "code",
   "execution_count": 2,
   "metadata": {},
   "outputs": [],
   "source": [
    "class MaskedSelfAttention(nn.Module):\n",
    "    def __init__(self, d_model = 2, row_dim = 0, col_dim = 1):\n",
    "        # d_model : dimennsi dari model atau angka dari Word Embedding\n",
    "\n",
    "        super().__init__()\n",
    "        self.W_q = nn.Linear(in_features=d_model, out_features=d_model, bias=False)\n",
    "        self.W_k = nn.Linear(in_features=d_model, out_features=d_model, bias=False)\n",
    "        self.W_v = nn.Linear(in_features=d_model, out_features=d_model, bias=False)\n",
    "        # membuat matriks weight untuk query, key, dan value\n",
    "        # nn.Linear juga akan melakukan operasi matematis yaitu y = xA^T + b\n",
    "        # dimana x adalah input, A adalah weight, dan b adalah bias\n",
    "\n",
    "        self.row_dim = row_dim\n",
    "        self.col_dim = col_dim\n",
    "\n",
    "    # operasi forward\n",
    "    def forward(self, token_encodings, mask=None):\n",
    "        # mask : None dimaksudkan jika melakuakn operasi original Self Attention\n",
    "        # jika mask tidak none, maka melakukan operasi Masked Self Attention\n",
    "\n",
    "        q = self.W_q(token_encodings)\n",
    "        k = self.W_k(token_encodings)\n",
    "        v = self.W_v(token_encodings)\n",
    "        # mengalikan matriks weight dengan input\n",
    "\n",
    "        ## MASKED SELF ATTENTION SCORE ## \n",
    "\n",
    "        # similiarity score\n",
    "        sims = torch.matmul(q, k.transpose(dim0=self.row_dim, dim1=self.col_dim))\n",
    "\n",
    "        # normalisasi similiarity score\n",
    "        scaled_sims = sims / torch.tensor(k.size(self.col_dim)**0.5)\n",
    "\n",
    "        # masking\n",
    "        if mask is not None:\n",
    "            # disini kita menggantikan nilai yang ingin kita masking\n",
    "            # dengan nilai yang sangat kecil (negative infinity atau menkdekati 0)\n",
    "            scaled_sims = scaled_sims.masked_fill(mask=mask, value=1e-9) # bisa diisi dengan -inf\n",
    "            # dengan nilai yang mendekati 0\n",
    "            # softmax akan mengembalikan 0\n",
    "\n",
    "        # softmax\n",
    "        attention_sm = F.softmax(scaled_sims, dim=self.col_dim)\n",
    "\n",
    "        # kalikan dengan Value\n",
    "        attention_score = torch.matmul(attention_sm, v)\n",
    "\n",
    "        ## END ##\n",
    "        \n",
    "        return attention_score\n"
   ]
  }
 ],
 "metadata": {
  "kernelspec": {
   "display_name": "Python 3",
   "language": "python",
   "name": "python3"
  },
  "language_info": {
   "codemirror_mode": {
    "name": "ipython",
    "version": 3
   },
   "file_extension": ".py",
   "mimetype": "text/x-python",
   "name": "python",
   "nbconvert_exporter": "python",
   "pygments_lexer": "ipython3",
   "version": "3.11.0"
  }
 },
 "nbformat": 4,
 "nbformat_minor": 2
}
