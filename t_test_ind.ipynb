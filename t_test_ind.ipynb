{
  "nbformat": 4,
  "nbformat_minor": 0,
  "metadata": {
    "colab": {
      "provenance": []
    },
    "kernelspec": {
      "name": "python3",
      "display_name": "Python 3"
    },
    "language_info": {
      "name": "python"
    }
  },
  "cells": [
    {
      "cell_type": "markdown",
      "source": [
        "Dua Populasi Saling Bebas"
      ],
      "metadata": {
        "id": "sSupfjbtcY6-"
      }
    },
    {
      "cell_type": "markdown",
      "source": [
        "![image.png](data:image/png;base64,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)"
      ],
      "metadata": {
        "id": "ZK_5_jA0cgPk"
      }
    },
    {
      "cell_type": "code",
      "source": [
        "import numpy as np"
      ],
      "metadata": {
        "id": "yZb93RVGtRaA"
      },
      "execution_count": 1,
      "outputs": []
    },
    {
      "cell_type": "markdown",
      "source": [
        "#### 1. Deklrasikan Variabel"
      ],
      "metadata": {
        "id": "cLt2RLya2IcG"
      }
    },
    {
      "cell_type": "code",
      "execution_count": 2,
      "metadata": {
        "id": "ieUOhA1EcS_q"
      },
      "outputs": [],
      "source": [
        "kelas1 = [77, 78, 89, 85, 84, 83, 89, 98, 97, 90, 85, 78]\n",
        "kelas2 = [89, 88, 88, 86, 85, 89, 98, 96, 94, 77]"
      ]
    },
    {
      "cell_type": "markdown",
      "source": [
        "#### 2. Deklarasi tiap parameter yang dibutuhkan"
      ],
      "metadata": {
        "id": "79kSilI92Vq9"
      }
    },
    {
      "cell_type": "code",
      "source": [
        "# Data 1\n",
        "rata_kelas1 = np.mean(kelas1)\n",
        "sd_kelas1 = np.std(kelas1, ddof = 1)\n",
        "n1 = len(kelas1)\n",
        "\n",
        "# Data 2\n",
        "rata_kelas2 = np.mean(kelas2)\n",
        "sd_kelas2 = np.std(kelas2, ddof = 1)\n",
        "n2 = len(kelas2)"
      ],
      "metadata": {
        "id": "YL75SqY_ty78"
      },
      "execution_count": 3,
      "outputs": []
    },
    {
      "cell_type": "code",
      "source": [
        "print(sd_kelas1)\n",
        "print(sd_kelas2)"
      ],
      "metadata": {
        "id": "h0IfOGy0y3iA"
      },
      "execution_count": null,
      "outputs": []
    },
    {
      "cell_type": "code",
      "source": [
        "df = n1 + n2 - 2\n",
        "sd_gab = np.sqrt(((n1 - 1) * np.power(sd_kelas1, 2) + (n2 - 1) * np.power(sd_kelas2, 2)) / df)"
      ],
      "metadata": {
        "id": "ZZGVOROfzIKm"
      },
      "execution_count": 5,
      "outputs": []
    },
    {
      "cell_type": "markdown",
      "source": [
        "#### 3. Uji T"
      ],
      "metadata": {
        "id": "4g9x-emH2gPL"
      }
    },
    {
      "cell_type": "code",
      "source": [
        "t_stat = (rata_kelas1 - rata_kelas2) / (sd_gab * np.sqrt(1/n1 + 1/n2))\n",
        "print(t_stat)"
      ],
      "metadata": {
        "colab": {
          "base_uri": "https://localhost:8080/"
        },
        "id": "SCCPjEJGzs7k",
        "outputId": "bce1016d-f023-4b00-c854-588555448042"
      },
      "execution_count": 9,
      "outputs": [
        {
          "output_type": "stream",
          "name": "stdout",
          "text": [
            "-1.045559009583496\n"
          ]
        }
      ]
    },
    {
      "cell_type": "markdown",
      "source": [
        "#### 4. Mencari batas galat/eror dengan alpha 0.05"
      ],
      "metadata": {
        "id": "NJUB-BLf2lCS"
      }
    },
    {
      "cell_type": "code",
      "source": [
        "from scipy.stats import ttest_ind"
      ],
      "metadata": {
        "id": "hzmiVWIq0Q5o"
      },
      "execution_count": 10,
      "outputs": []
    },
    {
      "cell_type": "code",
      "source": [
        "t_stat, p_value = ttest_ind(kelas1, kelas2, equal_var = True)"
      ],
      "metadata": {
        "id": "WMjKgOEN0WD_"
      },
      "execution_count": 14,
      "outputs": []
    },
    {
      "cell_type": "markdown",
      "source": [
        "#### 5. Memberikan Kesimpulan"
      ],
      "metadata": {
        "id": "XeGMpfKw2ugY"
      }
    },
    {
      "cell_type": "code",
      "source": [
        "if p_value < 0.05 :\n",
        "  print('Nilai kelas 1 dan 2 berbeda')\n",
        "else:\n",
        "  print('Nilai kelas 1 dan 2 sama')"
      ],
      "metadata": {
        "id": "iNKKLmOb1Krh"
      },
      "execution_count": null,
      "outputs": []
    }
  ]
}